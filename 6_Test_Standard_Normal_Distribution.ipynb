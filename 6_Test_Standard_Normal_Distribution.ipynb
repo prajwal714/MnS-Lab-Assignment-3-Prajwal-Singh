{
  "nbformat": 4,
  "nbformat_minor": 0,
  "metadata": {
    "colab": {
      "name": "6_Test_Standard_Normal_Distribution.ipynb",
      "provenance": [],
      "authorship_tag": "ABX9TyPlEjyUdKxjvt2Tqqws05Qn",
      "include_colab_link": true
    },
    "kernelspec": {
      "name": "python3",
      "display_name": "Python 3"
    }
  },
  "cells": [
    {
      "cell_type": "markdown",
      "metadata": {
        "id": "view-in-github",
        "colab_type": "text"
      },
      "source": [
        "<a href=\"https://colab.research.google.com/github/prajwal714/MnS-Lab-Assignment-3-Prajwal-Singh/blob/main/6_Test_Standard_Normal_Distribution.ipynb\" target=\"_parent\"><img src=\"https://colab.research.google.com/assets/colab-badge.svg\" alt=\"Open In Colab\"/></a>"
      ]
    },
    {
      "cell_type": "code",
      "metadata": {
        "id": "W3nk8k3eJ9HW"
      },
      "source": [
        "from scipy import stats\n",
        "import numpy as np"
      ],
      "execution_count": 1,
      "outputs": []
    },
    {
      "cell_type": "code",
      "metadata": {
        "id": "-6Jb74O8K1HO"
      },
      "source": [
        "pts = 10000"
      ],
      "execution_count": 2,
      "outputs": []
    },
    {
      "cell_type": "code",
      "metadata": {
        "id": "oQawizNdK7MT"
      },
      "source": [
        "np.random.seed(1421355691)\n"
      ],
      "execution_count": 9,
      "outputs": []
    },
    {
      "cell_type": "code",
      "metadata": {
        "id": "t7vKqJvpK9f9"
      },
      "source": [
        "a = np.random.normal(1, 3, size=pts)\n",
        "b = np.random.normal(2, 5, size=pts)\n",
        "x = np.concatenate((a, b))"
      ],
      "execution_count": 10,
      "outputs": []
    },
    {
      "cell_type": "code",
      "metadata": {
        "id": "jzszRTHxK_dg"
      },
      "source": [
        "k2, p = stats.normaltest(x)\n",
        "alpha = 1e-3"
      ],
      "execution_count": 11,
      "outputs": []
    },
    {
      "cell_type": "code",
      "metadata": {
        "colab": {
          "base_uri": "https://localhost:8080/"
        },
        "id": "yETAUckBLBmh",
        "outputId": "2def55b7-bd18-4922-a570-099a48fafb29"
      },
      "source": [
        "print(\"p = {:g}\".format(p))"
      ],
      "execution_count": 12,
      "outputs": [
        {
          "output_type": "stream",
          "text": [
            "p = 8.68964e-80\n"
          ],
          "name": "stdout"
        }
      ]
    },
    {
      "cell_type": "code",
      "metadata": {
        "colab": {
          "base_uri": "https://localhost:8080/"
        },
        "id": "TemO6Vu6LDRi",
        "outputId": "afe04618-0a3d-41de-8f4f-b5348af748c3"
      },
      "source": [
        "if p < alpha:  \n",
        "    print(\"The null hypothesis can be rejected\")\n",
        "else:\n",
        "    print(\"The null hypothesis cannot be rejected\")"
      ],
      "execution_count": 13,
      "outputs": [
        {
          "output_type": "stream",
          "text": [
            "The null hypothesis can be rejected\n"
          ],
          "name": "stdout"
        }
      ]
    }
  ]
}