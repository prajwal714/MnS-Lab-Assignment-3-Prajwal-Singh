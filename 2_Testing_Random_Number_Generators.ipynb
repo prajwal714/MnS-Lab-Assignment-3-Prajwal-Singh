{
  "nbformat": 4,
  "nbformat_minor": 0,
  "metadata": {
    "colab": {
      "name": "2_Testing_Random_Number_Generators.ipynb",
      "provenance": [],
      "authorship_tag": "ABX9TyMcoDGk0TsiCbHkCuX5VBZg",
      "include_colab_link": true
    },
    "kernelspec": {
      "name": "python3",
      "display_name": "Python 3"
    }
  },
  "cells": [
    {
      "cell_type": "markdown",
      "metadata": {
        "id": "view-in-github",
        "colab_type": "text"
      },
      "source": [
        "<a href=\"https://colab.research.google.com/github/prajwal714/MnS-Lab-Assignment-3-Prajwal-Singh/blob/main/2_Testing_Random_Number_Generators.ipynb\" target=\"_parent\"><img src=\"https://colab.research.google.com/assets/colab-badge.svg\" alt=\"Open In Colab\"/></a>"
      ]
    },
    {
      "cell_type": "code",
      "metadata": {
        "id": "VjtvH0NcFK5m"
      },
      "source": [
        "import random \n",
        "import math \n",
        "import statistics \n"
      ],
      "execution_count": 3,
      "outputs": []
    },
    {
      "cell_type": "code",
      "metadata": {
        "id": "1bkcCnkfFX2v"
      },
      "source": [
        "def runsTest(l, l_median): \n",
        "\n",
        "\truns, n1, n2 = 0, 0, 0\n",
        "\t\n",
        "\tfor i in range(len(l)): \n",
        "\t\t\n",
        "\t\tif (l[i] >= l_median and l[i-1] < l_median) or (l[i] < l_median and l[i-1] >= l_median): \n",
        "\t\t\truns += 1\n",
        "\t\t\n",
        "\t\tif(l[i]) >= l_median: \n",
        "\t\t\tn1 += 1\n",
        "\t\t\n",
        "\t\telse: \n",
        "\t\t\tn2 += 1\n",
        "\n",
        "\truns_exp = ((2*n1*n2)/(n1+n2))+1\n",
        "\tstan_dev = math.sqrt((2*n1*n2*(2*n1*n2-n1-n2))/(((n1+n2)**2)*(n1+n2-1))) \n",
        "\n",
        "\tz = (runs-runs_exp)/stan_dev \n",
        "\n",
        "\treturn z "
      ],
      "execution_count": 4,
      "outputs": []
    },
    {
      "cell_type": "code",
      "metadata": {
        "colab": {
          "base_uri": "https://localhost:8080/"
        },
        "id": "m0JqdhukFeR3",
        "outputId": "5f5e1d68-c2f0-40a4-9f30-5aaa75a45532"
      },
      "source": [
        "l = [] \n",
        "for i in range(100): \n",
        "\tl.append(random.random()) \n",
        "\t\n",
        "l_median= statistics.median(l) \n",
        "\n",
        "Z = abs(runsTest(l, l_median)) \n",
        "\n",
        "print('Z-statistic= ', Z)"
      ],
      "execution_count": 5,
      "outputs": [
        {
          "output_type": "stream",
          "text": [
            "Z-statistic=  0.201017818278147\n"
          ],
          "name": "stdout"
        }
      ]
    }
  ]
}