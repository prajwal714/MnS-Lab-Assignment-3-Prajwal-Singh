{
  "nbformat": 4,
  "nbformat_minor": 0,
  "metadata": {
    "colab": {
      "name": "1_Genertion_of_Random_Numbers.ipynb",
      "provenance": [],
      "authorship_tag": "ABX9TyP0uyDXvLx3wDces4OtJWiJ",
      "include_colab_link": true
    },
    "kernelspec": {
      "name": "python3",
      "display_name": "Python 3"
    }
  },
  "cells": [
    {
      "cell_type": "markdown",
      "metadata": {
        "id": "view-in-github",
        "colab_type": "text"
      },
      "source": [
        "<a href=\"https://colab.research.google.com/github/prajwal714/MnS-Lab-Assignment-3-Prajwal-Singh/blob/main/1_Genertion_of_Random_Numbers.ipynb\" target=\"_parent\"><img src=\"https://colab.research.google.com/assets/colab-badge.svg\" alt=\"Open In Colab\"/></a>"
      ]
    },
    {
      "cell_type": "code",
      "metadata": {
        "id": "sm884NyHEJ1n"
      },
      "source": [
        "def seed(initVal):\n",
        "    global rand\n",
        "    rand = initVal\n",
        "\n"
      ],
      "execution_count": null,
      "outputs": []
    },
    {
      "cell_type": "code",
      "metadata": {
        "id": "1IcL67b6Eogn"
      },
      "source": [
        "def lcg():\n",
        "    a = 19797979797\n",
        "    c = 125252525\n",
        "    m = 2**24\n",
        "    global rand\n",
        "    rand = (a*rand + c) % m\n",
        "    return rand\n",
        "\n"
      ],
      "execution_count": null,
      "outputs": []
    },
    {
      "cell_type": "code",
      "metadata": {
        "colab": {
          "base_uri": "https://localhost:8080/"
        },
        "id": "6lNw9CqAErZ9",
        "outputId": "c7769a55-5057-4f95-9c14-9981a0090858"
      },
      "source": [
        "seed(7)\n",
        "\n",
        "for i in range(10):\n",
        "    print (lcg())"
      ],
      "execution_count": null,
      "outputs": [
        {
          "output_type": "stream",
          "text": [
            "13866432\n",
            "10280045\n",
            "5884190\n",
            "8855075\n",
            "12948492\n",
            "16561833\n",
            "13600266\n",
            "15739775\n",
            "3297944\n",
            "10155557\n"
          ],
          "name": "stdout"
        }
      ]
    }
  ]
}