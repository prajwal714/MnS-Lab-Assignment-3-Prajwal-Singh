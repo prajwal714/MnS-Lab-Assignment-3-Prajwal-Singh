{
  "nbformat": 4,
  "nbformat_minor": 0,
  "metadata": {
    "colab": {
      "name": "4_Chi_Square_Test",
      "provenance": [],
      "authorship_tag": "ABX9TyMQZjciHx55+8AaYHrzFG/7",
      "include_colab_link": true
    },
    "kernelspec": {
      "name": "python3",
      "display_name": "Python 3"
    }
  },
  "cells": [
    {
      "cell_type": "markdown",
      "metadata": {
        "id": "view-in-github",
        "colab_type": "text"
      },
      "source": [
        "<a href=\"https://colab.research.google.com/github/prajwal714/MnS-Lab-Assignment-3-Prajwal-Singh/blob/main/4_Chi_Square_Test.ipynb\" target=\"_parent\"><img src=\"https://colab.research.google.com/assets/colab-badge.svg\" alt=\"Open In Colab\"/></a>"
      ]
    },
    {
      "cell_type": "code",
      "metadata": {
        "id": "ZAjucywAHWJB"
      },
      "source": [
        "import numpy as np\n",
        "from scipy import stats\n",
        "import matplotlib.pyplot as plt\n",
        "import scipy.stats as stats"
      ],
      "execution_count": 5,
      "outputs": []
    },
    {
      "cell_type": "code",
      "metadata": {
        "colab": {
          "base_uri": "https://localhost:8080/"
        },
        "id": "-5Y1iGnyHZEN",
        "outputId": "f11c43ec-034a-4b5e-edca-54fc1ee90211"
      },
      "source": [
        "expected = [50, 50, 50, 50, 50, 50 , 50 , 50]\n",
        "observed = [40, 50, 60, 57, 47, 43,  53,  57]\n",
        "\n",
        "\n",
        "#perform Chi-Square Goodness of Fit Test\n",
        "stats.chisquare(f_obs=observed, f_exp=expected)"
      ],
      "execution_count": 9,
      "outputs": [
        {
          "output_type": "execute_result",
          "data": {
            "text/plain": [
              "Power_divergenceResult(statistic=7.300000000000001, pvalue=0.3983264579760526)"
            ]
          },
          "metadata": {
            "tags": []
          },
          "execution_count": 9
        }
      ]
    },
    {
      "cell_type": "code",
      "metadata": {
        "colab": {
          "base_uri": "https://localhost:8080/"
        },
        "id": "quXxmdJrH6Q4",
        "outputId": "3e5dfbdb-554c-44bc-a6be-3637ffc91aff"
      },
      "source": [
        "alpha = 0.05\n",
        "print(\"P-value is {} and alpha is {}\\n\".format(p, alpha))\n",
        "\n",
        "if p > alpha:\n",
        "\tprint('reject H0: distribution is not a correct fit')\n",
        "else:\n",
        "\tprint('fail to reject H0: distribution is correct fit')\n"
      ],
      "execution_count": 11,
      "outputs": [
        {
          "output_type": "stream",
          "text": [
            "P-value is 0.04 and alpha is 0.05\n",
            "\n",
            "fail to reject H0: distribution is correct fit\n"
          ],
          "name": "stdout"
        }
      ]
    }
  ]
}