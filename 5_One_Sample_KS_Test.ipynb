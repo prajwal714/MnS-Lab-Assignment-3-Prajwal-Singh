{
  "nbformat": 4,
  "nbformat_minor": 0,
  "metadata": {
    "colab": {
      "name": "5_One_Sample_KS_Test.ipynb",
      "provenance": [],
      "authorship_tag": "ABX9TyP+FFhjVmVFxtR39D6ou2IZ",
      "include_colab_link": true
    },
    "kernelspec": {
      "name": "python3",
      "display_name": "Python 3"
    }
  },
  "cells": [
    {
      "cell_type": "markdown",
      "metadata": {
        "id": "view-in-github",
        "colab_type": "text"
      },
      "source": [
        "<a href=\"https://colab.research.google.com/github/prajwal714/MnS-Lab-Assignment-3-Prajwal-Singh/blob/main/5_One_Sample_KS_Test.ipynb\" target=\"_parent\"><img src=\"https://colab.research.google.com/assets/colab-badge.svg\" alt=\"Open In Colab\"/></a>"
      ]
    },
    {
      "cell_type": "code",
      "metadata": {
        "id": "E91qtkGVJ8OH"
      },
      "source": [
        "from scipy.stats import kstest \n",
        "import random "
      ],
      "execution_count": 1,
      "outputs": []
    },
    {
      "cell_type": "code",
      "metadata": {
        "colab": {
          "base_uri": "https://localhost:8080/"
        },
        "id": "9oVG3TTVKI9j",
        "outputId": "ec235a7c-589b-44ce-9cad-88edfe0f87f1"
      },
      "source": [
        "N = 20\n",
        "  \n",
        "actual =[] \n",
        "print(\"Enter outcomes: \") \n",
        "for i in range(N): \n",
        "    \n",
        "    actual.append(random.random()) \n",
        "  \n",
        "print(actual) \n"
      ],
      "execution_count": 5,
      "outputs": [
        {
          "output_type": "stream",
          "text": [
            "Enter outcomes: \n",
            "[0.06510093364458291, 0.6752046651385849, 0.7453080779624778, 0.7151794672665904, 0.3732346050360992, 0.9921463372525575, 0.7639174348400709, 0.6999976558407333, 0.1238066714004531, 0.627802284765905, 0.7198812664955996, 0.06860781324844722, 0.21887106749725105, 0.7252466542765861, 0.9928728273603578, 0.8278310593792517, 0.5689314090058527, 0.6473955110387086, 0.2760381524416886, 0.9365388728058939]\n"
          ],
          "name": "stdout"
        }
      ]
    },
    {
      "cell_type": "code",
      "metadata": {
        "colab": {
          "base_uri": "https://localhost:8080/"
        },
        "id": "uVWg1jIbKchV",
        "outputId": "26f302a9-a754-4a9d-ea83-31f9875d963f"
      },
      "source": [
        "x = kstest(actual, \"uniform\")    \n",
        "print(x)"
      ],
      "execution_count": 4,
      "outputs": [
        {
          "output_type": "stream",
          "text": [
            "KstestResult(statistic=0.17993277203327435, pvalue=0.4880754776042316)\n"
          ],
          "name": "stdout"
        }
      ]
    }
  ]
}