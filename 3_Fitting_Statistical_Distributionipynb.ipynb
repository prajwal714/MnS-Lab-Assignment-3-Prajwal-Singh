{
  "nbformat": 4,
  "nbformat_minor": 0,
  "metadata": {
    "colab": {
      "name": "3_Fitting_Statistical_Distributionipynb",
      "provenance": [],
      "authorship_tag": "ABX9TyM1G1m8vU5BfH4Ot2ezNAIg",
      "include_colab_link": true
    },
    "kernelspec": {
      "name": "python3",
      "display_name": "Python 3"
    }
  },
  "cells": [
    {
      "cell_type": "markdown",
      "metadata": {
        "id": "view-in-github",
        "colab_type": "text"
      },
      "source": [
        "<a href=\"https://colab.research.google.com/github/prajwal714/MnS-Lab-Assignment-3-Prajwal-Singh/blob/main/3_Fitting_Statistical_Distributionipynb.ipynb\" target=\"_parent\"><img src=\"https://colab.research.google.com/assets/colab-badge.svg\" alt=\"Open In Colab\"/></a>"
      ]
    },
    {
      "cell_type": "code",
      "metadata": {
        "id": "D3MxHguUGsMr"
      },
      "source": [
        "import numpy as np\n",
        "from scipy import stats\n",
        "import scipy\n",
        "import matplotlib.pyplot as plt\n",
        "import scipy.stats as stats"
      ],
      "execution_count": 3,
      "outputs": []
    },
    {
      "cell_type": "code",
      "metadata": {
        "colab": {
          "base_uri": "https://localhost:8080/",
          "height": 283
        },
        "id": "mnCXbR54Gupp",
        "outputId": "1ba63600-9623-4fb7-99b7-ec3ca7226508"
      },
      "source": [
        "data = np.random.normal(0, 0.5, 1000)\n",
        "\n",
        "\n",
        "mean, var  = scipy.stats.distributions.norm.fit(data)\n",
        "\n",
        "\n",
        "x = np.linspace(-5,5,100)\n",
        "\n",
        "\n",
        "fitted_data = scipy.stats.distributions.norm.pdf(x, mean, var)\n",
        "\n",
        "\n",
        "plt.hist(data, density=True)\n",
        "\n",
        "plt.plot(x,fitted_data,'r-')"
      ],
      "execution_count": 4,
      "outputs": [
        {
          "output_type": "execute_result",
          "data": {
            "text/plain": [
              "[<matplotlib.lines.Line2D at 0x7f5a4f083c50>]"
            ]
          },
          "metadata": {
            "tags": []
          },
          "execution_count": 4
        },
        {
          "output_type": "display_data",
          "data": {
            "image/png": "[encoded data removed]",
            "text/plain": [
              "<Figure size 432x288 with 1 Axes>"
            ]
          },
          "metadata": {
            "tags": [],
            "needs_background": "light"
          }
        }
      ]
    }
  ]
}